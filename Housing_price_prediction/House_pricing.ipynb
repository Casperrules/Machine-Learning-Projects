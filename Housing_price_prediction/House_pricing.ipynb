{
 "cells": [
  {
   "cell_type": "code",
   "execution_count": 240,
   "metadata": {},
   "outputs": [],
   "source": [
    "import pandas as pd\n",
    "import numpy as np\n",
    "import matplotlib.pyplot as plt\n",
    "import os"
   ]
  },
  {
   "cell_type": "code",
   "execution_count": 421,
   "metadata": {},
   "outputs": [],
   "source": [
    "#read the dataset for training\n",
    "data=pd.read_csv('train.csv')\n",
    "data.drop(columns=['Id'],inplace=True)"
   ]
  },
  {
   "cell_type": "code",
   "execution_count": 422,
   "metadata": {},
   "outputs": [],
   "source": [
    "#cleaning data for regression\n",
    "#remove NA and put -1 instead\n",
    "data=data.fillna(-1)\n",
    "#MSZoning col\n",
    "data['MSZoning']=data['MSZoning'].replace('RL',0)\n",
    "data['MSZoning']=data['MSZoning'].replace('RM',1)\n",
    "data['MSZoning']=data['MSZoning'].replace('FV',2)\n",
    "data['MSZoning']=data['MSZoning'].replace('A',3)\n",
    "data['MSZoning']=data['MSZoning'].replace('C',4)\n",
    "data['MSZoning']=data['MSZoning'].replace('I',5)\n",
    "data['MSZoning']=data['MSZoning'].replace('RH',6)\n",
    "data['MSZoning']=data['MSZoning'].replace('RP',7)"
   ]
  },
  {
   "cell_type": "code",
   "execution_count": 423,
   "metadata": {},
   "outputs": [],
   "source": [
    "#Street col\n",
    "data['Street']=data['Street'].replace('Grvl',0)\n",
    "data['Street']=data['Street'].replace('Pave',1)\n"
   ]
  },
  {
   "cell_type": "code",
   "execution_count": 424,
   "metadata": {},
   "outputs": [],
   "source": [
    "#Alley col\n",
    "data['Alley']=data['Alley'].replace(-1,0)#NA here means no alley available\n",
    "data['Alley']=data['Alley'].replace('Grvl',1)\n",
    "data['Alley']=data['Alley'].replace('Pave',2)"
   ]
  },
  {
   "cell_type": "code",
   "execution_count": 425,
   "metadata": {},
   "outputs": [],
   "source": [
    "#LotShape col\n",
    "data=data.replace({'LotShape' : { 'Reg' : 0, 'IR1' : 1, 'IR2' : 2,'IR3':3 }})"
   ]
  },
  {
   "cell_type": "code",
   "execution_count": 426,
   "metadata": {},
   "outputs": [],
   "source": [
    "data=data.replace({'LandContour':{'Lvl':0,'Bnk':1,'HLS':2,'Low':3}})\n",
    "data=data.replace('Brk Cmn','BrkCmn')"
   ]
  },
  {
   "cell_type": "code",
   "execution_count": 427,
   "metadata": {
    "scrolled": true
   },
   "outputs": [],
   "source": [
    "data=data.replace({'Utilities' :{'AllPub':0,'NoSewr':1,'NoSeWa':2,'ELO':3},\n",
    "                   'LotConfig':{'Inside':0,'Corner':1,'CulDSac':2,'FR2':3,'FR3':4},\n",
    "                   'LandSlope':{'Gtl':0,'Mod':1,'Sev':2},\n",
    "                   'Neighborhood':{'Blmngtn':0,'Blueste':1,'BrDale':2,'BrkSide':3,'ClearCr':4,'CollgCr':5,'Crawfor':6,'Edwards':7,'Gilbert':8,'IDOTRR':9,'MeadowV':10,'Mitchel':11,'NAmes':12,'NoRidge':13,'NPkVill':14,'NridgHt':15,'NWAmes':16,'OldTown':17,'SWISU':18,'Sawyer':19,'SawyerW':20,'Somerst':21,'StoneBr':22,'Timber':23,'Veenker':24},\n",
    "                   'Condition1':{'Artery':0,'Feedr':1,'Norm':2,'RRNn':3,'RRAn':4,'PosN':5,'PosA':6,'RRNe':7,'RRAe':8},\n",
    "                   'Condition2':{'Artery':0,'Feedr':1,'Norm':2,'RRNn':3,'RRAn':4,'PosN':5,'PosA':6,'RRNe':7,'RRAe':8},\n",
    "                   'BldgType':{'1Fam':0,'2fmCon':1,'Duplex':2,'TwnhsE':3,'Twnhs':4},\n",
    "                   'HouseStyle':{'1Story':0,'1.5Fin':1,'1.5Unf':2,'2Story':3,'2.5Fin':4,'2.5Unf':5,'SFoyer':6,'SLvl':7},\n",
    "                   'RoofStyle':{'Flat':0,'Gable':1,'Gambrel':2,'Hip':3,'Mansard':4,'Shed':5},\n",
    "                   'RoofMatl':{'ClyTile':0,'CompShg':1,'Membran':2,'Metal':3,'Roll':4,'Tar&Grv':5,'WdShake':6,'WdShngl':7},\n",
    "                   'Exterior1st':{'AsbShng':0,'AsphShn':1,'BrkComm':2,'BrkFace':3,'CBlock':4,'CemntBd':5,'HdBoard':6,'ImStucc':7,\n",
    "                                 'MetalSd':8,'Other':9,'Plywood':10,'PreCast':11,'Stone':12,'Stucco':13,'VinylSd':14,'Wd Sdng':15,\n",
    "                                 'WdShing':16,'Wd Shng':16,'WdShng':18},\n",
    "                   'Exterior2nd':{'AsbShng':0,'AsphShn':1,'BrkComm':2,'BrkFace':3,'CBlock':4,'CmentBd':5,'HdBoard':6,'ImStucc':7,\n",
    "                                 'MetalSd':8,'Other':9,'Plywood':10,'PreCast':11,'Stone':12,'Stucco':13,'VinylSd':14,'Wd Sdng':15,\n",
    "                                 'WdShing':16,'Wd Shng':17,'WdShng':18},\n",
    "                   'MasVnrType':{'Brk Cmn':-1,'BrkCmn':0,'BrkFace':1,'CBlock':2,'None':3,'Stone':4},\n",
    "                   'ExterQual':{'Ex':4,'Gd':3,'TA':2,'Fa':1,'Po':0},\n",
    "                   'ExterCond':{'Ex':4,'Gd':3,'TA':2,'Fa':1,'Po':0},\n",
    "                   'Foundation':{'BrkTil':0,'CBlock':1,'PConc':2,'Slab':3,'Stone':4,'Wood':5},\n",
    "                   'BsmtQual':{'Ex':5,'Gd':4,'TA':3,'Fa':2,'Po':1,-1:0},\n",
    "                   'BsmtCond':{'Ex':5,'Gd':4,'TA':3,'Fa':2,'Po':1,-1:0},\n",
    "                   'BsmtExposure':{'No':0,'Mn':1,'Av':2,'Gd':3},\n",
    "                   'BsmtFinType1':{'GLQ':5,'ALQ':4,'BLQ':3,'Rec':2,'LwQ':1,'Unf':0},\n",
    "                   'BsmtFinType2':{'GLQ':5,'ALQ':4,'BLQ':3,'Rec':2,'LwQ':1,'Unf':0},\n",
    "                   'Heating':{'Floor':0,'GasA':1,'GasW':2,'Grav':3,'OthW':4,'Wall':5},\n",
    "                   'HeatingQC':{'Ex':5,'Gd':4,'TA':3,'Fa':2,'Po':1},\n",
    "                   'CentralAir':{'N':0,'Y':1},\n",
    "                   'Electrical': {'SBrkr':0,'FuseA':1,'FuseF':2,'FuseP':3,'Mix':4},\n",
    "                   'KitchenQual':{'Ex':5,'Gd':4,'TA':3,'Fa':2,'Po':1},\n",
    "                   'Functional':{'Typ':0,'Min1':1,'Min2':2,'Mod':3,'Maj1':4,'Maj2':5,'Sev':6,'Sal':7},\n",
    "                   'FireplaceQu':{'Ex':5,'Gd':4,'TA':3,'Fa':2,'Po':1},\n",
    "                   'GarageType':{'2Types':0,'Attchd':1,'Basment':2,'BuiltIn':3,'CarPort':4,'Detchd':5},\n",
    "                   'GarageFinish':{'Fin':0,'RFn':1,'Unf':2},\n",
    "                   'GarageQual':{'Ex':5,'Gd':4,'TA':3,'Fa':2,'Po':1},\n",
    "                   'GarageCond':{'Ex':5,'Gd':4,'TA':3,'Fa':2,'Po':1},\n",
    "                   'PavedDrive':{'Y':1,'N':2,'P':3},\n",
    "                   'PoolQC':{'Ex':5,'Gd':4,'TA':3,'Fa':2},\n",
    "                   'Fence':{'GdPrv':0,'MnPrv':1,'GdWo':2,'MnWw':3},\n",
    "                   'MiscFeature':{'Elev':0,'Gar2':1,'Othr':3,'Shed':4,'TenC':5},\n",
    "                   'SaleType':{'WD':0,'CWD':1,'VWD':2,'New':3,'COD':4,'Con':5,'ConLw':6,'ConLI':7,'ConLD':8,'Oth':9},\n",
    "                   'SaleCondition':{'Normal':0,'Abnorml':1,'AdjLand':2,'Alloca':3,'Family':4,'Partial':5}\n",
    "                  })\n"
   ]
  },
  {
   "cell_type": "code",
   "execution_count": 428,
   "metadata": {},
   "outputs": [],
   "source": [
    "data=data.replace('C (all)',.1)\n",
    "data=data.replace('BrkCmn',0)"
   ]
  },
  {
   "cell_type": "code",
   "execution_count": 429,
   "metadata": {},
   "outputs": [],
   "source": [
    "#the machine starts to learn\n",
    "from sklearn.linear_model import LinearRegression\n",
    "from sklearn.model_selection import train_test_split\n",
    "label=data['SalePrice']\n",
    "features=data\n",
    "features.drop(columns=['SalePrice'],inplace=True)\n",
    "\n",
    "X_train,X_test,y_train,y_test=train_test_split(features,label,test_size=0.30)"
   ]
  },
  {
   "cell_type": "code",
   "execution_count": 442,
   "metadata": {},
   "outputs": [
    {
     "data": {
      "text/plain": [
       "Ridge(alpha=1.0, copy_X=True, fit_intercept=True, max_iter=None,\n",
       "   normalize=False, random_state=None, solver='auto', tol=0.001)"
      ]
     },
     "execution_count": 442,
     "metadata": {},
     "output_type": "execute_result"
    }
   ],
   "source": [
    "from sklearn.linear_model import Ridge\n",
    "clf1=Ridge(alpha=1.0)\n",
    "clf1.fit(X_train,y_train)"
   ]
  },
  {
   "cell_type": "code",
   "execution_count": 436,
   "metadata": {},
   "outputs": [
    {
     "data": {
      "text/plain": [
       "LinearRegression(copy_X=True, fit_intercept=True, n_jobs=None,\n",
       "         normalize=False)"
      ]
     },
     "execution_count": 436,
     "metadata": {},
     "output_type": "execute_result"
    }
   ],
   "source": [
    "clf=LinearRegression()\n",
    "clf.fit(X_train,y_train)"
   ]
  },
  {
   "cell_type": "code",
   "execution_count": 444,
   "metadata": {},
   "outputs": [
    {
     "name": "stderr",
     "output_type": "stream",
     "text": [
      "C:\\Anaconda3\\lib\\site-packages\\sklearn\\model_selection\\_split.py:2053: FutureWarning: You should specify a value for 'cv' instead of relying on the default value. The default value will change from 3 to 5 in version 0.22.\n",
      "  warnings.warn(CV_WARNING, FutureWarning)\n"
     ]
    },
    {
     "data": {
      "text/plain": [
       "0.8400408704309661"
      ]
     },
     "execution_count": 444,
     "metadata": {},
     "output_type": "execute_result"
    }
   ],
   "source": [
    "from sklearn.model_selection import cross_val_score\n",
    "max(cross_val_score(clf1, X_test, y_test))"
   ]
  },
  {
   "cell_type": "code",
   "execution_count": 455,
   "metadata": {},
   "outputs": [],
   "source": [
    "#loading test data\n",
    "df_test=pd.read_csv(r'C:\\Users\\ALOK DUBEY\\Desktop\\housing_prices\\test.csv')\n",
    "#df_test.head()\n",
    "ids=list(df_test['Id'])\n",
    "df_test.drop(columns=['Id'],inplace=True)"
   ]
  },
  {
   "cell_type": "code",
   "execution_count": 456,
   "metadata": {},
   "outputs": [],
   "source": [
    "#beautification of test data\n",
    "#remove NA and put -1 instead\n",
    "df_test=df_test.fillna(-1)\n",
    "df_test['MSZoning']=df_test['MSZoning'].replace('RL',0)\n",
    "df_test['MSZoning']=df_test['MSZoning'].replace('RM',1)\n",
    "df_test['MSZoning']=df_test['MSZoning'].replace('FV',2)\n",
    "df_test['MSZoning']=df_test['MSZoning'].replace('A',3)\n",
    "df_test['MSZoning']=df_test['MSZoning'].replace('C',4)\n",
    "df_test['MSZoning']=df_test['MSZoning'].replace('I',5)\n",
    "df_test['MSZoning']=df_test['MSZoning'].replace('RH',6)\n",
    "df_test['MSZoning']=df_test['MSZoning'].replace('RP',7)\n",
    "df_test['Street']=df_test['Street'].replace('Grvl',0)\n",
    "df_test['Street']=df_test['Street'].replace('Pave',1)\n",
    "df_test['Alley']=df_test['Alley'].replace(-1,0)\n",
    "df_test['Alley']=df_test['Alley'].replace('Grvl',1)\n",
    "df_test['Alley']=df_test['Alley'].replace('Pave',2)\n",
    "df_test=df_test.replace({'LotShape' : { 'Reg' : 0, 'IR1' : 1, 'IR2' : 2,'IR3':3 }})\n",
    "df_test=df_test.replace({'LandContour':{'Lvl':0,'Bnk':1,'HLS':2,'Low':3}})\n",
    "df_test=df_test.replace('Brk Cmn','BrkCmn')\n",
    "df_test=df_test.replace({'Utilities' :{'AllPub':0,'NoSewr':1,'NoSeWa':2,'ELO':3},\n",
    "                   'LotConfig':{'Inside':0,'Corner':1,'CulDSac':2,'FR2':3,'FR3':4},\n",
    "                   'LandSlope':{'Gtl':0,'Mod':1,'Sev':2},\n",
    "                   'Neighborhood':{'Blmngtn':0,'Blueste':1,'BrDale':2,'BrkSide':3,'ClearCr':4,'CollgCr':5,'Crawfor':6,'Edwards':7,'Gilbert':8,'IDOTRR':9,'MeadowV':10,'Mitchel':11,'NAmes':12,'NoRidge':13,'NPkVill':14,'NridgHt':15,'NWAmes':16,'OldTown':17,'SWISU':18,'Sawyer':19,'SawyerW':20,'Somerst':21,'StoneBr':22,'Timber':23,'Veenker':24},\n",
    "                   'Condition1':{'Artery':0,'Feedr':1,'Norm':2,'RRNn':3,'RRAn':4,'PosN':5,'PosA':6,'RRNe':7,'RRAe':8},\n",
    "                   'Condition2':{'Artery':0,'Feedr':1,'Norm':2,'RRNn':3,'RRAn':4,'PosN':5,'PosA':6,'RRNe':7,'RRAe':8},\n",
    "                   'BldgType':{'1Fam':0,'2fmCon':1,'Duplex':2,'TwnhsE':3,'Twnhs':4},\n",
    "                   'HouseStyle':{'1Story':0,'1.5Fin':1,'1.5Unf':2,'2Story':3,'2.5Fin':4,'2.5Unf':5,'SFoyer':6,'SLvl':7},\n",
    "                   'RoofStyle':{'Flat':0,'Gable':1,'Gambrel':2,'Hip':3,'Mansard':4,'Shed':5},\n",
    "                   'RoofMatl':{'ClyTile':0,'CompShg':1,'Membran':2,'Metal':3,'Roll':4,'Tar&Grv':5,'WdShake':6,'WdShngl':7},\n",
    "                   'Exterior1st':{'AsbShng':0,'AsphShn':1,'BrkComm':2,'BrkFace':3,'CBlock':4,'CemntBd':5,'HdBoard':6,'ImStucc':7,\n",
    "                                 'MetalSd':8,'Other':9,'Plywood':10,'PreCast':11,'Stone':12,'Stucco':13,'VinylSd':14,'Wd Sdng':15,\n",
    "                                 'WdShing':16,'Wd Shng':16,'WdShng':18},\n",
    "                   'Exterior2nd':{'AsbShng':0,'AsphShn':1,'BrkComm':2,'BrkFace':3,'CBlock':4,'CmentBd':5,'HdBoard':6,'ImStucc':7,\n",
    "                                 'MetalSd':8,'Other':9,'Plywood':10,'PreCast':11,'Stone':12,'Stucco':13,'VinylSd':14,'Wd Sdng':15,\n",
    "                                 'WdShing':16,'Wd Shng':17,'WdShng':18},\n",
    "                   'MasVnrType':{'Brk Cmn':-1,'BrkCmn':0,'BrkFace':1,'CBlock':2,'None':3,'Stone':4},\n",
    "                   'ExterQual':{'Ex':4,'Gd':3,'TA':2,'Fa':1,'Po':0},\n",
    "                   'ExterCond':{'Ex':4,'Gd':3,'TA':2,'Fa':1,'Po':0},\n",
    "                   'Foundation':{'BrkTil':0,'CBlock':1,'PConc':2,'Slab':3,'Stone':4,'Wood':5},\n",
    "                   'BsmtQual':{'Ex':5,'Gd':4,'TA':3,'Fa':2,'Po':1,-1:0},\n",
    "                   'BsmtCond':{'Ex':5,'Gd':4,'TA':3,'Fa':2,'Po':1,-1:0},\n",
    "                   'BsmtExposure':{'No':0,'Mn':1,'Av':2,'Gd':3},\n",
    "                   'BsmtFinType1':{'GLQ':5,'ALQ':4,'BLQ':3,'Rec':2,'LwQ':1,'Unf':0},\n",
    "                   'BsmtFinType2':{'GLQ':5,'ALQ':4,'BLQ':3,'Rec':2,'LwQ':1,'Unf':0},\n",
    "                   'Heating':{'Floor':0,'GasA':1,'GasW':2,'Grav':3,'OthW':4,'Wall':5},\n",
    "                   'HeatingQC':{'Ex':5,'Gd':4,'TA':3,'Fa':2,'Po':1},\n",
    "                   'CentralAir':{'N':0,'Y':1},\n",
    "                   'Electrical': {'SBrkr':0,'FuseA':1,'FuseF':2,'FuseP':3,'Mix':4},\n",
    "                   'KitchenQual':{'Ex':5,'Gd':4,'TA':3,'Fa':2,'Po':1},\n",
    "                   'Functional':{'Typ':0,'Min1':1,'Min2':2,'Mod':3,'Maj1':4,'Maj2':5,'Sev':6,'Sal':7},\n",
    "                   'FireplaceQu':{'Ex':5,'Gd':4,'TA':3,'Fa':2,'Po':1},\n",
    "                   'GarageType':{'2Types':0,'Attchd':1,'Basment':2,'BuiltIn':3,'CarPort':4,'Detchd':5},\n",
    "                   'GarageFinish':{'Fin':0,'RFn':1,'Unf':2},\n",
    "                   'GarageQual':{'Ex':5,'Gd':4,'TA':3,'Fa':2,'Po':1},\n",
    "                   'GarageCond':{'Ex':5,'Gd':4,'TA':3,'Fa':2,'Po':1},\n",
    "                   'PavedDrive':{'Y':1,'N':2,'P':3},\n",
    "                   'PoolQC':{'Ex':5,'Gd':4,'TA':3,'Fa':2},\n",
    "                   'Fence':{'GdPrv':0,'MnPrv':1,'GdWo':2,'MnWw':3},\n",
    "                   'MiscFeature':{'Elev':0,'Gar2':1,'Othr':3,'Shed':4,'TenC':5},\n",
    "                   'SaleType':{'WD':0,'CWD':1,'VWD':2,'New':3,'COD':4,'Con':5,'ConLw':6,'ConLI':7,'ConLD':8,'Oth':9},\n",
    "                   'SaleCondition':{'Normal':0,'Abnorml':1,'AdjLand':2,'Alloca':3,'Family':4,'Partial':5}\n",
    "                  })\n",
    "df_test=df_test.replace('C (all)',.1)\n",
    "df_test=df_test.replace('BrkCmn',0)"
   ]
  },
  {
   "cell_type": "code",
   "execution_count": 468,
   "metadata": {},
   "outputs": [],
   "source": [
    "predictions=list(clf.predict(df_test))\n",
    "for i,v in enumerate(predictions):\n",
    "    predictions[i]=\"%.1f\"%v"
   ]
  },
  {
   "cell_type": "code",
   "execution_count": 471,
   "metadata": {},
   "outputs": [],
   "source": [
    "import csv\n",
    "with open(r'C:\\Users\\ALOK DUBEY\\Desktop\\housing_prices\\mySubmit.csv','w',newline='') as f:\n",
    "    writer=csv.writer(f)\n",
    "    writer.writerow(['Id','SalePrice'])\n",
    "    for Id,price in zip(ids,predictions):\n",
    "        writer.writerow([Id,price])"
   ]
  }
 ],
 "metadata": {
  "kernelspec": {
   "display_name": "Python 3",
   "language": "python",
   "name": "python3"
  },
  "language_info": {
   "codemirror_mode": {
    "name": "ipython",
    "version": 3
   },
   "file_extension": ".py",
   "mimetype": "text/x-python",
   "name": "python",
   "nbconvert_exporter": "python",
   "pygments_lexer": "ipython3",
   "version": "3.7.3"
  }
 },
 "nbformat": 4,
 "nbformat_minor": 2
}
